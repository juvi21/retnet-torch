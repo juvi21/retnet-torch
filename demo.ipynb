{
 "cells": [
  {
   "cell_type": "code",
   "execution_count": 2,
   "metadata": {},
   "outputs": [],
   "source": [
    "import torch\n",
    "from src.ret_net import CausalRetNet\n",
    "from src.base import ModelArgs"
   ]
  },
  {
   "cell_type": "code",
   "execution_count": 5,
   "metadata": {},
   "outputs": [
    {
     "ename": "AttributeError",
     "evalue": "type object 'ModelArgs' has no attribute 'vocab_size'",
     "output_type": "error",
     "traceback": [
      "\u001b[0;31m---------------------------------------------------------------------------\u001b[0m",
      "\u001b[0;31mAttributeError\u001b[0m                            Traceback (most recent call last)",
      "Cell \u001b[0;32mIn[5], line 1\u001b[0m\n\u001b[0;32m----> 1\u001b[0m model \u001b[39m=\u001b[39m  CausalRetNet(ModelArgs)\n\u001b[1;32m      3\u001b[0m \u001b[39m# Forward pass\u001b[39;00m\n\u001b[1;32m      4\u001b[0m sample_tensor \u001b[39m=\u001b[39m torch\u001b[39m.\u001b[39mrandint(\u001b[39m0\u001b[39m, \u001b[39m8\u001b[39m, (\u001b[39m1\u001b[39m, \u001b[39m10\u001b[39m))\n",
      "File \u001b[0;32m~/fun/tinyRetnet-torch/src/ret_net.py:90\u001b[0m, in \u001b[0;36mCausalRetNet.__init__\u001b[0;34m(self, params)\u001b[0m\n\u001b[1;32m     88\u001b[0m \u001b[39mdef\u001b[39;00m \u001b[39m__init__\u001b[39m(\u001b[39mself\u001b[39m, params: ModelArgs):\n\u001b[1;32m     89\u001b[0m     \u001b[39msuper\u001b[39m()\u001b[39m.\u001b[39m\u001b[39m__init__\u001b[39m()\n\u001b[0;32m---> 90\u001b[0m     \u001b[39mself\u001b[39m\u001b[39m.\u001b[39membedding \u001b[39m=\u001b[39m nn\u001b[39m.\u001b[39mEmbedding(params\u001b[39m.\u001b[39;49mvocab_size, params\u001b[39m.\u001b[39mdim)\n\u001b[1;32m     91\u001b[0m     \u001b[39mself\u001b[39m\u001b[39m.\u001b[39mdecoder \u001b[39m=\u001b[39m RetNetDecoder(params)\n\u001b[1;32m     92\u001b[0m     \u001b[39mself\u001b[39m\u001b[39m.\u001b[39moutput \u001b[39m=\u001b[39m nn\u001b[39m.\u001b[39mLinear(params\u001b[39m.\u001b[39mdim, params\u001b[39m.\u001b[39mvocab_size, bias\u001b[39m=\u001b[39m\u001b[39mFalse\u001b[39;00m)\n",
      "\u001b[0;31mAttributeError\u001b[0m: type object 'ModelArgs' has no attribute 'vocab_size'"
     ]
    }
   ],
   "source": [
    "model =  CausalRetNet(ModelArgs())\n",
    "\n",
    "# Forward pass\n",
    "sample_tensor = torch.randint(0, 8, (1, 10))\n",
    "print(sample_tensor)\n",
    "output = model(sample_tensor)\n",
    "print(output)\n",
    "\n",
    "# Stateful forward pass\n",
    "sample_tensor2 = torch.randint(0, 8, (1, 10))\n",
    "output2, state = model(sample_tensor2, need_state=True)\n",
    "print(output2)"
   ]
  }
 ],
 "metadata": {
  "kernelspec": {
   "display_name": "Python 3",
   "language": "python",
   "name": "python3"
  },
  "language_info": {
   "codemirror_mode": {
    "name": "ipython",
    "version": 3
   },
   "file_extension": ".py",
   "mimetype": "text/x-python",
   "name": "python",
   "nbconvert_exporter": "python",
   "pygments_lexer": "ipython3",
   "version": "3.10.12"
  },
  "orig_nbformat": 4
 },
 "nbformat": 4,
 "nbformat_minor": 2
}
